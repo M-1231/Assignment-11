{
  "nbformat": 4,
  "nbformat_minor": 0,
  "metadata": {
    "colab": {
      "provenance": []
    },
    "kernelspec": {
      "name": "python3",
      "display_name": "Python 3"
    },
    "language_info": {
      "name": "python"
    }
  },
  "cells": [
    {
      "cell_type": "code",
      "execution_count": null,
      "metadata": {
        "id": "3dxecHoie4gb"
      },
      "outputs": [],
      "source": [
        "# Q.1\n",
        "Multiprocessing in Python is a technique that allows you to create and run multiple processes simultaneously using the multiprocessing module.\n",
        "Multiprocessing in Python is useful for:\n",
        "    *CPU-bound tasks: Tasks that require heavy computation and spend most of their time using the CPU, such as data analysis, image processing, machine learning, etc. Multiprocessing can speed up these tasks by distributing the workload across multiple processes that can run in parallel.\n",
        "    *Parallelism: Tasks that can be divided into smaller subtasks that can run independently and concurrently, such as web scraping, batch processing, map-reduce, etc. Multiprocessing can enable parallelism by creating a pool of processes that can execute a function across multiple input values.\n",
        "    *Process isolation: Tasks that need to run in a separate environment or memory space, such as sandboxing, testing, debugging, etc. Multiprocessing can provide process isolation by creating a new Python interpreter process for each child process.\n"
      ]
    },
    {
      "cell_type": "code",
      "source": [
        "# Q.2\n",
        "Multiprocessing and multithreading are two techniques that can improve the performance of a program by executing multiple tasks concurrently. However, they have some differences in how they achieve this goal.\n",
        "Multiprocessing is a technique that uses two or more CPUs or processors to run multiple processes simultaneously.A process is an instance of a program that has its own memory space and can execute independently. Multiprocessing can increase the computing power of a system by utilizing the available CPU cores or processors and avoiding the limitations of the Global Interpreter Lock (GIL) that prevents multiple threads from executing Python code at once.\n",
        "Multithreading is a technique that uses a single process with multiple threads to run multiple tasks simultaneously. A thread is a segment of code that can execute independently within a process and share the same memory space with other threads. Multithreading can increase the responsiveness and efficiency of a program by avoiding idle time and switching between tasks quickly.\n",
        "\n",
        "Some of the key differences between multiprocessing and multithreading are:\n",
        "\n",
        "1.Computing power: Multiprocessing can increase the computing power by adding more CPUs or processors, while multithreading can increase the computing power by using a single CPU or processor more effectively.\n",
        "2.Memory space: Multiprocessing uses separate memory space for each process, while multithreading uses shared memory space for all threads within a process.\n",
        "3.Communication: Multiprocessing requires inter-process communication mechanisms such as queues, pipes, locks, etc., while multithreading can communicate directly using shared variables or objects.\n",
        "4.Overhead: Multiprocessing has more overhead due to process creation, context switching, and communication, while multithreading has less overhead due to thread creation, context switching, and communication.\n",
        "5.Scalability: Multiprocessing is more scalable as it can use multiple machines or clusters, while multithreading is less scalable as it is limited by the number of cores or processors in a single machine."
      ],
      "metadata": {
        "id": "AKbKGFrZf-rc"
      },
      "execution_count": null,
      "outputs": []
    },
    {
      "cell_type": "code",
      "source": [
        "# Q.3\n",
        "import multiprocessing\n",
        "def test(name):\n",
        "  print(f\"Hello,{name}\")\n",
        "\n",
        "if __name__ =='__main__':\n",
        "  m=multiprocessing.Process(target=test, args =(\"Mahima\",))\n",
        "  print(\"Process created\")\n",
        "  m.start()\n",
        "  m.join()\n"
      ],
      "metadata": {
        "colab": {
          "base_uri": "https://localhost:8080/"
        },
        "id": "iuqfY8-2iFWH",
        "outputId": "97b7a75d-0b15-4dec-d7c7-4a64c58d6ffc"
      },
      "execution_count": 24,
      "outputs": [
        {
          "output_type": "stream",
          "name": "stdout",
          "text": [
            "Process created\n",
            "Hello,Mahima\n"
          ]
        }
      ]
    },
    {
      "cell_type": "code",
      "source": [
        "# Q.4\n",
        "A multiprocessing pool in Python is a container object that manages a set of worker processes that can execute tasks from a queue. It is a part of the multiprocessing module that supports process-based parallelism. A multiprocessing pool is useful for:\n",
        "\n",
        "    Data parallelism: Tasks that can be divided into smaller subtasks that can run independently and concurrently on different input values, such as map-reduce, web scraping, batch processing, etc. A multiprocessing pool can enable data parallelism by creating a pool of processes that can execute a function across multiple input values using methods such as map, imap, starmap, etc.\n",
        "    Performance and scalability: Tasks that require heavy computation and spend most of their time using the CPU, such as data analysis, image processing, machine learning, etc. A multiprocessing pool can improve the performance and scalability of these tasks by distributing the workload across multiple processes that can run in parallel on multiple CPUs or processors and avoid the limitations of the Global Interpreter Lock (GIL) that prevents multiple threads from executing Python code at once.\n",
        "    Convenience and simplicity: Tasks that do not require much communication or synchronization between subtasks, such as sandboxing, testing, debugging, etc. A multiprocessing pool can provide convenience and simplicity by abstracting away the details of process creation, management, and communication and providing a high-level interface to submit and retrieve tasks."
      ],
      "metadata": {
        "id": "MCYlay9EjMZy"
      },
      "execution_count": null,
      "outputs": []
    },
    {
      "cell_type": "code",
      "source": [
        "# Q.5\n",
        "import multiprocessing\n",
        "def cube(n):\n",
        "  return n**3\n",
        "\n",
        "if __name__ =='__main__':\n",
        "  with multiprocessing.Pool(processes=3) as pool:\n",
        "    out = pool.map(cube, range(1,10))\n",
        "    print(out)"
      ],
      "metadata": {
        "id": "M_B8HfxxkXMc",
        "colab": {
          "base_uri": "https://localhost:8080/"
        },
        "outputId": "788c2c24-e201-4604-dd85-787c61a2ae2a"
      },
      "execution_count": 2,
      "outputs": [
        {
          "output_type": "stream",
          "name": "stdout",
          "text": [
            "[1, 8, 27, 64, 125, 216, 343, 512, 729]\n"
          ]
        }
      ]
    },
    {
      "cell_type": "code",
      "source": [
        "# Q.6\n",
        "import multiprocessing\n",
        "def print_number(num):\n",
        "    print(f\"Process {num}: {num}\")\n",
        "\n",
        "if __name__ == '__main__':\n",
        "    processes = []\n",
        "\n",
        "    for i in range(1,5):\n",
        "      p = multiprocessing.Process(target = print_number , args=(i,))\n",
        "      processes.append(p)\n",
        "      p.start()\n",
        "\n",
        "    for p in processes:\n",
        "      p.join()"
      ],
      "metadata": {
        "colab": {
          "base_uri": "https://localhost:8080/"
        },
        "id": "Gq4PHgD4s2Uk",
        "outputId": "f61d778a-ba99-4cbc-ba95-5114f4f61e14"
      },
      "execution_count": 20,
      "outputs": [
        {
          "output_type": "stream",
          "name": "stdout",
          "text": [
            "Process 1: 1\n",
            "Process 2: 2Process 3: 3\n",
            "\n",
            "Process 4: 4\n"
          ]
        }
      ]
    }
  ]
}